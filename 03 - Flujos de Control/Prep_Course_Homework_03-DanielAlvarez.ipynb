{
 "cells": [
  {
   "cell_type": "markdown",
   "metadata": {},
   "source": [
    "## Flujos de Control"
   ]
  },
  {
   "cell_type": "markdown",
   "metadata": {},
   "source": [
    "1) Crear una variable que contenga un elemento del conjunto de números enteros y luego imprimir por pantalla si es mayor o menor a cero"
   ]
  },
  {
   "cell_type": "code",
   "execution_count": 4,
   "metadata": {},
   "outputs": [
    {
     "name": "stdout",
     "output_type": "stream",
     "text": [
      "El número es Menos que cero\n"
     ]
    }
   ],
   "source": [
    "entero = -9\n",
    "\n",
    "if (entero < 0 ):\n",
    "    print(\"El número es Menos que cero\")\n",
    "elif (entero > 0):\n",
    "    print(\"En número es Mayor que cero\")\n",
    "else:\n",
    "    print(\"El número es Igual a cero\")"
   ]
  },
  {
   "cell_type": "markdown",
   "metadata": {},
   "source": [
    "2) Crear dos variables y un condicional que informe si son del mismo tipo de dato"
   ]
  },
  {
   "cell_type": "code",
   "execution_count": 7,
   "metadata": {},
   "outputs": [
    {
     "name": "stdout",
     "output_type": "stream",
     "text": [
      "Las variables son del mismo tipo\n"
     ]
    }
   ],
   "source": [
    "var1 = 8\n",
    "var2 = 5\n",
    "\n",
    "if (type(var1) == type(var2)):\n",
    "    print(\"Las variables son del mismo tipo\")\n",
    "else:\n",
    "    print(\"Las variables son de tipo diferente\")"
   ]
  },
  {
   "cell_type": "markdown",
   "metadata": {},
   "source": [
    "3) Para los valores enteros del 1 al 20, imprimir por pantalla si es par o impar"
   ]
  },
  {
   "cell_type": "code",
   "execution_count": 13,
   "metadata": {},
   "outputs": [
    {
     "name": "stdout",
     "output_type": "stream",
     "text": [
      "El número 1 es Impar\n",
      "El número 2 es Par\n",
      "El número 3 es Impar\n",
      "El número 4 es Par\n",
      "El número 5 es Impar\n",
      "El número 6 es Par\n",
      "El número 7 es Impar\n",
      "El número 8 es Par\n",
      "El número 9 es Impar\n",
      "El número 10 es Par\n",
      "El número 11 es Impar\n",
      "El número 12 es Par\n",
      "El número 13 es Impar\n",
      "El número 14 es Par\n",
      "El número 15 es Impar\n",
      "El número 16 es Par\n",
      "El número 17 es Impar\n",
      "El número 18 es Par\n",
      "El número 19 es Impar\n",
      "El número 20 es Par\n"
     ]
    }
   ],
   "source": [
    "for n in range(1, 21):\n",
    "    if(n%2 == 0):\n",
    "        print(\"El número \" + str(n) + \" es Par\")\n",
    "    else:\n",
    "        print(\"El número \" + str(n) + \" es Impar\")"
   ]
  },
  {
   "cell_type": "markdown",
   "metadata": {},
   "source": [
    "4) En un ciclo for mostrar para los valores entre 0 y 5 el resultado de elevarlo a la potencia igual a 3"
   ]
  },
  {
   "cell_type": "code",
   "execution_count": 42,
   "metadata": {},
   "outputs": [
    {
     "name": "stdout",
     "output_type": "stream",
     "text": [
      "0  elevado a la 3 es igual a:  0.0\n",
      "1  elevado a la 3 es igual a:  1.0\n",
      "2  elevado a la 3 es igual a:  8.0\n",
      "3  elevado a la 3 es igual a:  27.0\n",
      "4  elevado a la 3 es igual a:  64.0\n",
      "5  elevado a la 3 es igual a:  125.0\n"
     ]
    }
   ],
   "source": [
    "import math\n",
    "\n",
    "for i in range(0, 6):\n",
    "    print(str(i), \" elevado a la 3 es igual a: \", str(math.pow(i, 3)))"
   ]
  },
  {
   "cell_type": "markdown",
   "metadata": {},
   "source": [
    "5) Crear una variable que contenga un número entero y realizar un ciclo for la misma cantidad de ciclos"
   ]
  },
  {
   "cell_type": "code",
   "execution_count": 38,
   "metadata": {},
   "outputs": [
    {
     "name": "stdout",
     "output_type": "stream",
     "text": [
      "00000\n",
      "00000\n",
      "00000\n",
      "00000\n",
      "00000\n"
     ]
    }
   ],
   "source": [
    "num3 = 5\n",
    "\n",
    "for i in range (1, num3+1):\n",
    "    print(str(0) * num3)"
   ]
  },
  {
   "cell_type": "markdown",
   "metadata": {},
   "source": [
    "6) Utilizar un ciclo while para realizar el factorial de un número guardado en una variable, sólo si la variable contiene un número entero mayor a 0"
   ]
  },
  {
   "cell_type": "code",
   "execution_count": null,
   "metadata": {},
   "outputs": [],
   "source": [
    "num4 = 10\n",
    "\n",
    "resultado = 1\n",
    "\n",
    "if(num4 = 1):\n",
    "   print(\"El factorial de \", str(num4), \" es\") \n",
    "if (num4 > 0):\n",
    "    while (contador <= num4):\n"
   ]
  },
  {
   "cell_type": "markdown",
   "metadata": {},
   "source": [
    "7) Crear un ciclo for dentro de un ciclo while"
   ]
  },
  {
   "cell_type": "markdown",
   "metadata": {},
   "source": [
    "8) Crear un ciclo while dentro de un ciclo for"
   ]
  },
  {
   "cell_type": "markdown",
   "metadata": {},
   "source": [
    "9) Imprimir los números primos existentes entre 0 y 30"
   ]
  },
  {
   "cell_type": "markdown",
   "metadata": {},
   "source": [
    "10) ¿Se puede mejorar el proceso del punto 9? Utilizar las sentencias break y/ó continue para tal fin"
   ]
  },
  {
   "cell_type": "markdown",
   "metadata": {},
   "source": [
    "11) En los puntos 9 y 10, se diseño un código que encuentra números primos y además se lo optimizó. ¿Es posible saber en qué medida se optimizó?"
   ]
  },
  {
   "cell_type": "markdown",
   "metadata": {},
   "source": [
    "12) Si la cantidad de números que se evalúa es mayor a treinta, esa optimización crece?"
   ]
  },
  {
   "cell_type": "markdown",
   "metadata": {},
   "source": [
    "13) Aplicando continue, armar un ciclo while que solo imprima los valores divisibles por 12, dentro del rango de números de 100 a 300"
   ]
  },
  {
   "cell_type": "markdown",
   "metadata": {},
   "source": [
    "14) Utilizar la función **input()** que permite hacer ingresos por teclado, para encontrar números primos y dar la opción al usario de buscar el siguiente"
   ]
  },
  {
   "cell_type": "markdown",
   "metadata": {},
   "source": [
    "15) Crear un ciclo while que encuentre dentro del rango de 100 a 300 el primer número divisible por 3 y además múltiplo de 6"
   ]
  }
 ],
 "metadata": {
  "interpreter": {
   "hash": "c85384e4cb51c8b72350f3a8712cc8351fdc3955e32a27f9b60c6242ab125f01"
  },
  "kernelspec": {
   "display_name": "Python 3 (ipykernel)",
   "language": "python",
   "name": "python3"
  },
  "language_info": {
   "codemirror_mode": {
    "name": "ipython",
    "version": 3
   },
   "file_extension": ".py",
   "mimetype": "text/x-python",
   "name": "python",
   "nbconvert_exporter": "python",
   "pygments_lexer": "ipython3",
   "version": "3.11.2"
  }
 },
 "nbformat": 4,
 "nbformat_minor": 4
}
