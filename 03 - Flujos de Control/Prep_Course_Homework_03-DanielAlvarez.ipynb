{
 "cells": [
  {
   "cell_type": "markdown",
   "metadata": {},
   "source": [
    "## Flujos de Control"
   ]
  },
  {
   "cell_type": "markdown",
   "metadata": {},
   "source": [
    "1) Crear una variable que contenga un elemento del conjunto de números enteros y luego imprimir por pantalla si es mayor o menor a cero"
   ]
  },
  {
   "cell_type": "code",
   "execution_count": 4,
   "metadata": {},
   "outputs": [
    {
     "name": "stdout",
     "output_type": "stream",
     "text": [
      "El número es Menos que cero\n"
     ]
    }
   ],
   "source": [
    "entero = -9\n",
    "\n",
    "if (entero < 0 ):\n",
    "    print(\"El número es Menos que cero\")\n",
    "elif (entero > 0):\n",
    "    print(\"En número es Mayor que cero\")\n",
    "else:\n",
    "    print(\"El número es Igual a cero\")"
   ]
  },
  {
   "cell_type": "markdown",
   "metadata": {},
   "source": [
    "2) Crear dos variables y un condicional que informe si son del mismo tipo de dato"
   ]
  },
  {
   "cell_type": "code",
   "execution_count": 7,
   "metadata": {},
   "outputs": [
    {
     "name": "stdout",
     "output_type": "stream",
     "text": [
      "Las variables son del mismo tipo\n"
     ]
    }
   ],
   "source": [
    "var1 = 8\n",
    "var2 = 5\n",
    "\n",
    "if (type(var1) == type(var2)):\n",
    "    print(\"Las variables son del mismo tipo\")\n",
    "else:\n",
    "    print(\"Las variables son de tipo diferente\")"
   ]
  },
  {
   "cell_type": "markdown",
   "metadata": {},
   "source": [
    "3) Para los valores enteros del 1 al 20, imprimir por pantalla si es par o impar"
   ]
  },
  {
   "cell_type": "code",
   "execution_count": 13,
   "metadata": {},
   "outputs": [
    {
     "name": "stdout",
     "output_type": "stream",
     "text": [
      "El número 1 es Impar\n",
      "El número 2 es Par\n",
      "El número 3 es Impar\n",
      "El número 4 es Par\n",
      "El número 5 es Impar\n",
      "El número 6 es Par\n",
      "El número 7 es Impar\n",
      "El número 8 es Par\n",
      "El número 9 es Impar\n",
      "El número 10 es Par\n",
      "El número 11 es Impar\n",
      "El número 12 es Par\n",
      "El número 13 es Impar\n",
      "El número 14 es Par\n",
      "El número 15 es Impar\n",
      "El número 16 es Par\n",
      "El número 17 es Impar\n",
      "El número 18 es Par\n",
      "El número 19 es Impar\n",
      "El número 20 es Par\n"
     ]
    }
   ],
   "source": [
    "for n in range(1, 21):\n",
    "    if(n%2 == 0):\n",
    "        print(\"El número \" + str(n) + \" es Par\")\n",
    "    else:\n",
    "        print(\"El número \" + str(n) + \" es Impar\")"
   ]
  },
  {
   "cell_type": "markdown",
   "metadata": {},
   "source": [
    "4) En un ciclo for mostrar para los valores entre 0 y 5 el resultado de elevarlo a la potencia igual a 3"
   ]
  },
  {
   "cell_type": "code",
   "execution_count": 42,
   "metadata": {},
   "outputs": [
    {
     "name": "stdout",
     "output_type": "stream",
     "text": [
      "0  elevado a la 3 es igual a:  0.0\n",
      "1  elevado a la 3 es igual a:  1.0\n",
      "2  elevado a la 3 es igual a:  8.0\n",
      "3  elevado a la 3 es igual a:  27.0\n",
      "4  elevado a la 3 es igual a:  64.0\n",
      "5  elevado a la 3 es igual a:  125.0\n"
     ]
    }
   ],
   "source": [
    "import math\n",
    "\n",
    "for i in range(0, 6):\n",
    "    print(str(i), \" elevado a la 3 es igual a: \", str(math.pow(i, 3)))"
   ]
  },
  {
   "cell_type": "markdown",
   "metadata": {},
   "source": [
    "5) Crear una variable que contenga un número entero y realizar un ciclo for la misma cantidad de ciclos"
   ]
  },
  {
   "cell_type": "code",
   "execution_count": 38,
   "metadata": {},
   "outputs": [
    {
     "name": "stdout",
     "output_type": "stream",
     "text": [
      "00000\n",
      "00000\n",
      "00000\n",
      "00000\n",
      "00000\n"
     ]
    }
   ],
   "source": [
    "num3 = 5\n",
    "\n",
    "for i in range (1, num3+1):\n",
    "    print(str(0) * num3)"
   ]
  },
  {
   "cell_type": "markdown",
   "metadata": {},
   "source": [
    "6) Utilizar un ciclo while para realizar el factorial de un número guardado en una variable, sólo si la variable contiene un número entero mayor a 0"
   ]
  },
  {
   "cell_type": "code",
   "execution_count": 21,
   "metadata": {},
   "outputs": [
    {
     "name": "stdout",
     "output_type": "stream",
     "text": [
      "40320\n"
     ]
    }
   ],
   "source": [
    "num4 = 8\n",
    "\n",
    "if(num4 <= 0):\n",
    "    print(\"No es un número válido\")\n",
    "elif(num4 == 1):\n",
    "   print(\"El factorial de \", str(num4), \" es: 1\") \n",
    "elif (num4 > 1):\n",
    "    contador = 1\n",
    "    resultado = 1\n",
    "    while (contador < num4):\n",
    "        resultado = resultado * (contador +1)\n",
    "        contador += 1\n",
    "    print(resultado)"
   ]
  },
  {
   "cell_type": "markdown",
   "metadata": {},
   "source": [
    "7) Crear un ciclo for dentro de un ciclo while"
   ]
  },
  {
   "cell_type": "code",
   "execution_count": 23,
   "metadata": {},
   "outputs": [
    {
     "name": "stdout",
     "output_type": "stream",
     "text": [
      "1  x  1  =  1\n",
      "1  x  2  =  2\n",
      "1  x  3  =  3\n",
      "1  x  4  =  4\n",
      "1  x  5  =  5\n",
      "1  x  6  =  6\n",
      "1  x  7  =  7\n",
      "1  x  8  =  8\n",
      "1  x  9  =  9\n",
      "1  x  10  =  10\n",
      "2  x  1  =  2\n",
      "2  x  2  =  4\n",
      "2  x  3  =  6\n",
      "2  x  4  =  8\n",
      "2  x  5  =  10\n",
      "2  x  6  =  12\n",
      "2  x  7  =  14\n",
      "2  x  8  =  16\n",
      "2  x  9  =  18\n",
      "2  x  10  =  20\n",
      "3  x  1  =  3\n",
      "3  x  2  =  6\n",
      "3  x  3  =  9\n",
      "3  x  4  =  12\n",
      "3  x  5  =  15\n",
      "3  x  6  =  18\n",
      "3  x  7  =  21\n",
      "3  x  8  =  24\n",
      "3  x  9  =  27\n",
      "3  x  10  =  30\n",
      "4  x  1  =  4\n",
      "4  x  2  =  8\n",
      "4  x  3  =  12\n",
      "4  x  4  =  16\n",
      "4  x  5  =  20\n",
      "4  x  6  =  24\n",
      "4  x  7  =  28\n",
      "4  x  8  =  32\n",
      "4  x  9  =  36\n",
      "4  x  10  =  40\n",
      "5  x  1  =  5\n",
      "5  x  2  =  10\n",
      "5  x  3  =  15\n",
      "5  x  4  =  20\n",
      "5  x  5  =  25\n",
      "5  x  6  =  30\n",
      "5  x  7  =  35\n",
      "5  x  8  =  40\n",
      "5  x  9  =  45\n",
      "5  x  10  =  50\n",
      "6  x  1  =  6\n",
      "6  x  2  =  12\n",
      "6  x  3  =  18\n",
      "6  x  4  =  24\n",
      "6  x  5  =  30\n",
      "6  x  6  =  36\n",
      "6  x  7  =  42\n",
      "6  x  8  =  48\n",
      "6  x  9  =  54\n",
      "6  x  10  =  60\n",
      "7  x  1  =  7\n",
      "7  x  2  =  14\n",
      "7  x  3  =  21\n",
      "7  x  4  =  28\n",
      "7  x  5  =  35\n",
      "7  x  6  =  42\n",
      "7  x  7  =  49\n",
      "7  x  8  =  56\n",
      "7  x  9  =  63\n",
      "7  x  10  =  70\n",
      "8  x  1  =  8\n",
      "8  x  2  =  16\n",
      "8  x  3  =  24\n",
      "8  x  4  =  32\n",
      "8  x  5  =  40\n",
      "8  x  6  =  48\n",
      "8  x  7  =  56\n",
      "8  x  8  =  64\n",
      "8  x  9  =  72\n",
      "8  x  10  =  80\n",
      "9  x  1  =  9\n",
      "9  x  2  =  18\n",
      "9  x  3  =  27\n",
      "9  x  4  =  36\n",
      "9  x  5  =  45\n",
      "9  x  6  =  54\n",
      "9  x  7  =  63\n",
      "9  x  8  =  72\n",
      "9  x  9  =  81\n",
      "9  x  10  =  90\n",
      "10  x  1  =  10\n",
      "10  x  2  =  20\n",
      "10  x  3  =  30\n",
      "10  x  4  =  40\n",
      "10  x  5  =  50\n",
      "10  x  6  =  60\n",
      "10  x  7  =  70\n",
      "10  x  8  =  80\n",
      "10  x  9  =  90\n",
      "10  x  10  =  100\n"
     ]
    }
   ],
   "source": [
    "cont = 1\n",
    "\n",
    "while(cont <= 10):\n",
    "    for i in range(1, 11):\n",
    "        print(cont, \" x \",  i, \" = \", (cont*i))\n",
    "        i += 1\n",
    "    cont += 1"
   ]
  },
  {
   "cell_type": "markdown",
   "metadata": {},
   "source": [
    "8) Crear un ciclo while dentro de un ciclo for"
   ]
  },
  {
   "cell_type": "code",
   "execution_count": 24,
   "metadata": {},
   "outputs": [
    {
     "name": "stdout",
     "output_type": "stream",
     "text": [
      "1  x  1  =  1\n",
      "2  x  1  =  2\n",
      "3  x  1  =  3\n",
      "4  x  1  =  4\n",
      "5  x  1  =  5\n",
      "6  x  1  =  6\n",
      "7  x  1  =  7\n",
      "8  x  1  =  8\n",
      "9  x  1  =  9\n",
      "10  x  1  =  10\n",
      "1  x  2  =  2\n",
      "2  x  2  =  4\n",
      "3  x  2  =  6\n",
      "4  x  2  =  8\n",
      "5  x  2  =  10\n",
      "6  x  2  =  12\n",
      "7  x  2  =  14\n",
      "8  x  2  =  16\n",
      "9  x  2  =  18\n",
      "10  x  2  =  20\n",
      "1  x  3  =  3\n",
      "2  x  3  =  6\n",
      "3  x  3  =  9\n",
      "4  x  3  =  12\n",
      "5  x  3  =  15\n",
      "6  x  3  =  18\n",
      "7  x  3  =  21\n",
      "8  x  3  =  24\n",
      "9  x  3  =  27\n",
      "10  x  3  =  30\n",
      "1  x  4  =  4\n",
      "2  x  4  =  8\n",
      "3  x  4  =  12\n",
      "4  x  4  =  16\n",
      "5  x  4  =  20\n",
      "6  x  4  =  24\n",
      "7  x  4  =  28\n",
      "8  x  4  =  32\n",
      "9  x  4  =  36\n",
      "10  x  4  =  40\n",
      "1  x  5  =  5\n",
      "2  x  5  =  10\n",
      "3  x  5  =  15\n",
      "4  x  5  =  20\n",
      "5  x  5  =  25\n",
      "6  x  5  =  30\n",
      "7  x  5  =  35\n",
      "8  x  5  =  40\n",
      "9  x  5  =  45\n",
      "10  x  5  =  50\n",
      "1  x  6  =  6\n",
      "2  x  6  =  12\n",
      "3  x  6  =  18\n",
      "4  x  6  =  24\n",
      "5  x  6  =  30\n",
      "6  x  6  =  36\n",
      "7  x  6  =  42\n",
      "8  x  6  =  48\n",
      "9  x  6  =  54\n",
      "10  x  6  =  60\n",
      "1  x  7  =  7\n",
      "2  x  7  =  14\n",
      "3  x  7  =  21\n",
      "4  x  7  =  28\n",
      "5  x  7  =  35\n",
      "6  x  7  =  42\n",
      "7  x  7  =  49\n",
      "8  x  7  =  56\n",
      "9  x  7  =  63\n",
      "10  x  7  =  70\n",
      "1  x  8  =  8\n",
      "2  x  8  =  16\n",
      "3  x  8  =  24\n",
      "4  x  8  =  32\n",
      "5  x  8  =  40\n",
      "6  x  8  =  48\n",
      "7  x  8  =  56\n",
      "8  x  8  =  64\n",
      "9  x  8  =  72\n",
      "10  x  8  =  80\n",
      "1  x  9  =  9\n",
      "2  x  9  =  18\n",
      "3  x  9  =  27\n",
      "4  x  9  =  36\n",
      "5  x  9  =  45\n",
      "6  x  9  =  54\n",
      "7  x  9  =  63\n",
      "8  x  9  =  72\n",
      "9  x  9  =  81\n",
      "10  x  9  =  90\n",
      "1  x  10  =  10\n",
      "2  x  10  =  20\n",
      "3  x  10  =  30\n",
      "4  x  10  =  40\n",
      "5  x  10  =  50\n",
      "6  x  10  =  60\n",
      "7  x  10  =  70\n",
      "8  x  10  =  80\n",
      "9  x  10  =  90\n",
      "10  x  10  =  100\n"
     ]
    }
   ],
   "source": [
    "for i in range(1, 11):\n",
    "    contad = 1\n",
    "    while(contad <= 10):\n",
    "        print(contad, \" x \",  i, \" = \", (contad*i))\n",
    "        contad += 1\n",
    "    i += 1"
   ]
  },
  {
   "cell_type": "markdown",
   "metadata": {},
   "source": [
    "9) Imprimir los números primos existentes entre 0 y 30"
   ]
  },
  {
   "cell_type": "code",
   "execution_count": 44,
   "metadata": {},
   "outputs": [
    {
     "name": "stdout",
     "output_type": "stream",
     "text": [
      "2\n"
     ]
    }
   ],
   "source": [
    "\n",
    "for i in range(2, 31):\n",
    "    primo = False\n",
    "    for j in range(1, i+1):\n",
    "        resto = i % j\n",
    "        if(resto != 0):\n",
    "            primo = True\n",
    "        j += 1\n",
    "    if(primo == False):\n",
    "        print(i)\n",
    "        i += 1"
   ]
  },
  {
   "cell_type": "markdown",
   "metadata": {},
   "source": [
    "10) ¿Se puede mejorar el proceso del punto 9? Utilizar las sentencias break y/ó continue para tal fin"
   ]
  },
  {
   "cell_type": "markdown",
   "metadata": {},
   "source": [
    "11) En los puntos 9 y 10, se diseño un código que encuentra números primos y además se lo optimizó. ¿Es posible saber en qué medida se optimizó?"
   ]
  },
  {
   "cell_type": "markdown",
   "metadata": {},
   "source": [
    "12) Si la cantidad de números que se evalúa es mayor a treinta, esa optimización crece?"
   ]
  },
  {
   "cell_type": "markdown",
   "metadata": {},
   "source": [
    "13) Aplicando continue, armar un ciclo while que solo imprima los valores divisibles por 12, dentro del rango de números de 100 a 300"
   ]
  },
  {
   "cell_type": "markdown",
   "metadata": {},
   "source": [
    "14) Utilizar la función **input()** que permite hacer ingresos por teclado, para encontrar números primos y dar la opción al usario de buscar el siguiente"
   ]
  },
  {
   "cell_type": "markdown",
   "metadata": {},
   "source": [
    "15) Crear un ciclo while que encuentre dentro del rango de 100 a 300 el primer número divisible por 3 y además múltiplo de 6"
   ]
  }
 ],
 "metadata": {
  "interpreter": {
   "hash": "c85384e4cb51c8b72350f3a8712cc8351fdc3955e32a27f9b60c6242ab125f01"
  },
  "kernelspec": {
   "display_name": "Python 3 (ipykernel)",
   "language": "python",
   "name": "python3"
  },
  "language_info": {
   "codemirror_mode": {
    "name": "ipython",
    "version": 3
   },
   "file_extension": ".py",
   "mimetype": "text/x-python",
   "name": "python",
   "nbconvert_exporter": "python",
   "pygments_lexer": "ipython3",
   "version": "3.11.2"
  }
 },
 "nbformat": 4,
 "nbformat_minor": 4
}
